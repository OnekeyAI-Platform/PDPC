{
 "cells": [
  {
   "cell_type": "markdown",
   "id": "54a15239",
   "metadata": {},
   "source": [
    "# 检查shape以及label"
   ]
  },
  {
   "cell_type": "code",
   "execution_count": null,
   "id": "d99a41d7",
   "metadata": {},
   "outputs": [],
   "source": [
    "import os, shutil\n",
    "from onekey_algo import get_param_in_cwd\n",
    "import numpy as np\n",
    "import nibabel as nib\n",
    "import pandas as pd\n",
    "from glob import glob\n",
    "\n",
    "root = r'D:\\20240416-GuanBo\\T2'\n",
    "for sample in glob(os.path.join(root, '*/*.nii.gz')):\n",
    "    sname = os.path.basename(sample).replace('.nii.gz', '')\n",
    "    sname = f\"{int(sname):03d}\"\n",
    "    save2 = os.path.join(os.path.dirname(sample), f\"{sname}.nii.gz\")\n",
    "    print(save2)\n",
    "    shutil.move(sample, save2)"
   ]
  },
  {
   "cell_type": "code",
   "execution_count": null,
   "id": "3fcf9fe5",
   "metadata": {
    "scrolled": true
   },
   "outputs": [],
   "source": [
    "import pandas as pd\n",
    "import re\n",
    "\n",
    "info = pd.read_csv(r'Z:/20240416-GuanBo/T2/linfo.csv')\n",
    "info['病理诊断'] = info['病理诊断'].map(lambda x: re.sub(r'[（） ]', '', x))\n",
    "info['Neurological'] = (info['病理诊断'].str.contains('神经侵犯+')).astype(int)\n",
    "info['vascular'] = (info['病理诊断'].map(lambda x: 1 if '脉管侵犯+' in x or '脉管癌栓+' in x else 0)).astype(int)\n",
    "info.to_csv(r'Z:/20240416-GuanBo/T2/info.csv', index=False, encoding='utf-8-sig')\n",
    "info"
   ]
  },
  {
   "cell_type": "code",
   "execution_count": null,
   "id": "d8859a51",
   "metadata": {},
   "outputs": [],
   "source": [
    "import os\n",
    "\n",
    "a = set([f.replace('.npy', '.gz') for f in os.listdir(r'Z:\\20240416-GuanBo\\T2\\roi_rad_features')])\n",
    "b = set(os.listdir(r'Z:/20240416-GuanBo/T2/images/'))\n",
    "b - a"
   ]
  },
  {
   "cell_type": "markdown",
   "id": "88fd988a",
   "metadata": {},
   "source": [
    "# 划分数据"
   ]
  },
  {
   "cell_type": "code",
   "execution_count": null,
   "id": "b1d019a4",
   "metadata": {},
   "outputs": [],
   "source": [
    "import os\n",
    "import re\n",
    "import shutil\n",
    "import pandas as pd\n",
    "from onekey_algo.custom.components.comp2 import split_dataset4sol\n",
    "from onekey_algo import get_param_in_cwd\n",
    "from onekey_algo.custom.utils import print_join_info\n",
    "\n",
    "mapping = pd.read_csv(r'Z:/20240416-GuanBo/T2/id_mapping.csv', \n",
    "                      converters={'pid': str, 'ID': lambda x: f\"{int(x):03d}.nii.gz\"})\n",
    "data = pd.read_csv(r'Z:/20240416-GuanBo/T2/label-N.csv', dtype={'pid': str})\n",
    "data = pd.merge(mapping, data, on='pid', how='left').drop_duplicates('ID')\n",
    "samples = pd.read_csv('features/rad_features_habitat.csv')\n",
    "data = pd.merge(samples['ID'], data, on='ID', how='left')[['ID', 'label']]\n",
    "data = data.fillna(1)\n",
    "data['label'] = data['label'].astype(int)\n",
    "print_join_info(samples, data)\n",
    "display(data)\n",
    "\n",
    "rt = split_dataset4sol(data, data['label'], cv=False, n_trails=10, test_size=0.33, save_dir='.', shuffle=True)\n",
    "# for idx, (train, val) in enumerate(rt):    \n",
    "#     pd.merge(train, samples, on='ID', how='inner')[['fname', 'label']].to_csv(f'split_info/train-RND-{idx}.txt', \n",
    "#                                                                               sep='\\t', header=None, index=None)\n",
    "#     pd.merge(val, samples, on='ID', how='inner')[['fname', 'label']].to_csv(f'split_info/val-RND-{idx}.txt',\n",
    "#                                                                             sep='\\t', header=None, index=None)"
   ]
  },
  {
   "cell_type": "code",
   "execution_count": null,
   "id": "153ff0e3",
   "metadata": {},
   "outputs": [],
   "source": [
    "import pandas as pd\n",
    "\n",
    "def split_g(x):\n",
    "    try:\n",
    "        return int(str(x).split(\"=\")[-1])\n",
    "    except:\n",
    "        return None\n",
    "c1 = pd.read_csv('Z:/20240416-GuanBo/T2/Clinical1.csv', dtype={\"ID\": str})\n",
    "c1['Gleason'] = c1['Gleason'].map(lambda x: split_g(x))\n",
    "c2 = pd.read_csv('Z:/20240416-GuanBo/T2/Clinical2.csv', dtype={\"ID\": str})\n",
    "group = pd.read_csv('group.csv')\n",
    "mapping = pd.read_csv(r'Z:/20240416-GuanBo/T2/id_mapping.csv', \n",
    "                      converters={'pid': str, 'ID': lambda x: f\"{int(x):03d}.nii.gz\"})\n",
    "data = pd.merge(group, mapping, on='ID', how='left').drop_duplicates('ID')\n",
    "c = pd.merge(c1, c2, on='ID', how='inner').drop_duplicates('ID')\n",
    "c = pd.merge(data, c, right_on='ID', left_on='pid', how='left')\n",
    "c.to_csv('Z:/20240416-GuanBo/T2/Clinical.csv', index=False, encoding='utf-8-sig')\n",
    "c"
   ]
  },
  {
   "cell_type": "code",
   "execution_count": null,
   "id": "62b5be3e",
   "metadata": {},
   "outputs": [],
   "source": [
    "data"
   ]
  },
  {
   "cell_type": "code",
   "execution_count": null,
   "id": "c152fb68",
   "metadata": {},
   "outputs": [],
   "source": []
  }
 ],
 "metadata": {
  "kernelspec": {
   "display_name": "Python 3 (ipykernel)",
   "language": "python",
   "name": "python3"
  },
  "language_info": {
   "codemirror_mode": {
    "name": "ipython",
    "version": 3
   },
   "file_extension": ".py",
   "mimetype": "text/x-python",
   "name": "python",
   "nbconvert_exporter": "python",
   "pygments_lexer": "ipython3",
   "version": "3.7.12"
  }
 },
 "nbformat": 4,
 "nbformat_minor": 5
}
